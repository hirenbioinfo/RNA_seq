{
 "cells": [
  {
   "cell_type": "markdown",
   "id": "8c44a1f1",
   "metadata": {},
   "source": [
    "## FPKM to TPM Conversion\n",
    "This Python script converts FPKM data from an Excel file to TPM and saves the results in a new Excel file.\n",
    "\n",
    "### Prerequisites\n",
    "\n",
    "Python 3.1\n",
    "\n",
    "pandas library (to install, run pip/conda install pandas)"
   ]
  },
  {
   "cell_type": "code",
   "execution_count": 1,
   "id": "13afffb4",
   "metadata": {},
   "outputs": [],
   "source": [
    "import pandas as pd\n",
    "\n",
    "# Read the FPKM data from the Excel file\n",
    "fpkm_data = pd.read_excel(\"matrixFPKM.xlsx\", index_col=0)"
   ]
  },
  {
   "cell_type": "code",
   "execution_count": 2,
   "id": "bd6c6dc8",
   "metadata": {},
   "outputs": [],
   "source": [
    "# Step 2: Calculate the total FPKM values for each sample\n",
    "sample_totals = fpkm_data.sum()"
   ]
  },
  {
   "cell_type": "code",
   "execution_count": 3,
   "id": "7f632970",
   "metadata": {},
   "outputs": [],
   "source": [
    "# Step 3: Convert FPKM values to TPM\n",
    "tpm_data = (fpkm_data / sample_totals) * 1e6"
   ]
  },
  {
   "cell_type": "code",
   "execution_count": 4,
   "id": "d0a6329f",
   "metadata": {},
   "outputs": [],
   "source": [
    "# Step 4: Build the TPM matrix\n",
    "tpm_data.insert(0, 'GENE', tpm_data.index)\n",
    "tpm_data.reset_index(drop=True, inplace=True)"
   ]
  },
  {
   "cell_type": "code",
   "execution_count": 5,
   "id": "69e86d1a",
   "metadata": {},
   "outputs": [],
   "source": [
    "# Save the TPM data to a new Excel file\n",
    "tpm_data.to_excel(\"tpm_data.xlsx\", index=False)"
   ]
  }
 ],
 "metadata": {
  "kernelspec": {
   "display_name": "Python 3",
   "language": "python",
   "name": "python3"
  },
  "language_info": {
   "codemirror_mode": {
    "name": "ipython",
    "version": 3
   },
   "file_extension": ".py",
   "mimetype": "text/x-python",
   "name": "python",
   "nbconvert_exporter": "python",
   "pygments_lexer": "ipython3",
   "version": "3.7.8"
  }
 },
 "nbformat": 4,
 "nbformat_minor": 5
}

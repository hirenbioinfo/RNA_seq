{
  "nbformat": 4,
  "nbformat_minor": 0,
  "metadata": {
    "colab": {
      "private_outputs": true,
      "provenance": [],
      "authorship_tag": "ABX9TyN7QDl2c5RNfDNuhmntugRP",
      "include_colab_link": true
    },
    "kernelspec": {
      "name": "python3",
      "display_name": "Python 3"
    },
    "language_info": {
      "name": "python"
    }
  },
  "cells": [
    {
      "cell_type": "markdown",
      "metadata": {
        "id": "view-in-github",
        "colab_type": "text"
      },
      "source": [
        "<a href=\"https://colab.research.google.com/github/hirenbioinfo/RNA_seq/blob/main/volcanoplot.ipynb\" target=\"_parent\"><img src=\"https://colab.research.google.com/assets/colab-badge.svg\" alt=\"Open In Colab\"/></a>"
      ]
    },
    {
      "cell_type": "code",
      "execution_count": null,
      "metadata": {
        "id": "WUIS4SHb3P1t"
      },
      "outputs": [],
      "source": [
        "#!pip install rpy2==3.5.1\n",
        "%load_ext rpy2.ipython"
      ]
    },
    {
      "cell_type": "code",
      "source": [
        "%%R\n",
        "library(tidyverse) # for data processing\n",
        "library(RColorBrewer) # for a colourful plot\n",
        "library(ggrepel) # for nice annotations\n",
        "#install.packages(\"ggrepel\") # if necessary\n"
      ],
      "metadata": {
        "id": "hVZwugMk3jcS"
      },
      "execution_count": null,
      "outputs": []
    },
    {
      "cell_type": "code",
      "source": [
        "%%R\n",
        "# Import DGE results\n",
        "df <- read.csv(\"/content/severevshealthy_degresults.csv\", row.names = 1)\n",
        "head(df)"
      ],
      "metadata": {
        "id": "lCzBIKbk4KX2"
      },
      "execution_count": null,
      "outputs": []
    },
    {
      "cell_type": "code",
      "source": [
        "%%R\n",
        "# Create a basic volcano plot\n",
        "ggplot(data = df, aes(x = log2fc, y = -log10(pval))) +\n",
        "  geom_point()"
      ],
      "metadata": {
        "id": "sAZRs6EM8A4N"
      },
      "execution_count": null,
      "outputs": []
    },
    {
      "cell_type": "code",
      "source": [
        "%%R\n",
        "# Add threshold lines\n",
        "# Add threshold lines\n",
        "ggplot(data = df, aes(x = log2fc, y = -log10(pval))) +\n",
        "  geom_vline(xintercept = c(-0.6, 0.6), col = \"red\", linetype = 'dashed') +\n",
        "  geom_hline(yintercept = -log10(0.05), col = \"green\", linetype = 'dashed') +\n",
        "  geom_point()\n",
        ""
      ],
      "metadata": {
        "id": "rZMdBa9O80_2"
      },
      "execution_count": null,
      "outputs": []
    },
    {
      "cell_type": "code",
      "source": [
        "%%R\n",
        "# Biostatsquid theme\n",
        "theme_set(theme_classic(base_size = 20) +\n",
        "            theme(\n",
        "              axis.title.y = element_text(face = \"bold\", margin = margin(0,20,0,0), size = rel(1.1), color = 'black'),\n",
        "              axis.title.x = element_text(hjust = 0.5, face = \"bold\", margin = margin(20,0,0,0), size = rel(1.1), color = 'black'),\n",
        "              plot.title = element_text(hjust = 0.5)\n",
        "            ))\n"
      ],
      "metadata": {
        "id": "vpBO7QlK890_"
      },
      "execution_count": null,
      "outputs": []
    },
    {
      "cell_type": "code",
      "source": [
        "%%R\n",
        "# Add a column to the data frame to specify if they are UP- or DOWN- regulated (log2fc respectively positive or negative)<br /><br /><br />\n",
        "df$diffexpressed <- \"NO\"\n",
        "df$diffexpressed[df$log2fc > 0.6 & df$pval < 0.05] <- \"UP\"\n",
        "df$diffexpressed[df$log2fc < -0.6 & df$pval < 0.05] <- \"DOWN\"\n",
        "head(df[order(df$padj) & df$diffexpressed == 'DOWN', ])"
      ],
      "metadata": {
        "id": "gy3L6-rC9JFl"
      },
      "execution_count": null,
      "outputs": []
    },
    {
      "cell_type": "code",
      "source": [
        "%%R\n",
        "\n",
        "# Create a new column \"delabel\" to de, that will contain the name of the top 30 differentially expressed genes (NA in case they are not)\n",
        "df$delabel <- ifelse(df$gene_symbol %in% head(df[order(df$padj), \"gene_symbol\"], 30), df$gene_symbol, NA)\n",
        "##############################################\n",
        "\n",
        "ggplot(data = df, aes(x = log2fc, y = -log10(pval), col = diffexpressed)) +\n",
        "  geom_vline(xintercept = c(-0.6, 0.6), col = \"gray\", linetype = 'dashed') +\n",
        "  geom_hline(yintercept = -log10(0.05), col = \"gray\", linetype = 'dashed') +\n",
        "  geom_point(size = 2) +\n",
        "  scale_color_manual(values = c(\"#00AFBB\", \"grey\", \"#FFDB6D\"),\n",
        "                     labels = c(\"Downregulated\", \"Not significant\", \"Upregulated\")) +\n",
        "  ggtitle(\"Gene expression COVID vs healthy patients\")\n",
        "\n",
        "\n"
      ],
      "metadata": {
        "id": "MsKp9Kci9UhH"
      },
      "execution_count": null,
      "outputs": []
    },
    {
      "cell_type": "code",
      "source": [
        "%%R\n",
        "ggplot(data = df, aes(x = log2fc, y = -log10(pval), col = diffexpressed, label = delabel)) +\n",
        "  geom_vline(xintercept = c(-0.6, 0.6), col = \"gray\", linetype = 'dashed') +\n",
        "  geom_hline(yintercept = -log10(0.05), col = \"gray\", linetype = 'dashed') +\n",
        "  geom_point(size = 2) +\n",
        "  scale_color_manual(values = c(\"#00AFBB\", \"grey\", \"#bb0c00\"),\n",
        "                     labels = c(\"Downregulated\", \"Not significant\", \"Upregulated\")) +\n",
        "  coord_cartesian(ylim = c(0, 250), xlim = c(-10, 10)) +\n",
        "  labs(color = 'Severe', x = expression(\"log\"[2]*\"FC\"), y = expression(\"-log\"[10]*\"p-value\")) +\n",
        "  scale_x_continuous(breaks = seq(-10, 10, 2)) +\n",
        "  ggtitle('Thf-like cells in severe COVID-19 vs healthy patients') +\n",
        "  geom_text_repel(max.overlaps = Inf)\n"
      ],
      "metadata": {
        "id": "VcFI13qp9uMt"
      },
      "execution_count": null,
      "outputs": []
    },
    {
      "cell_type": "code",
      "source": [
        "%%R\n",
        "myvolcanoplot <- ggplot(data = df, aes(x = log2fc, y = -log10(pval), col = diffexpressed, label = delabel)) +\n",
        "  geom_vline(xintercept = c(-0.6, 0.6), col = \"gray\", linetype = 'dashed') +\n",
        "  geom_hline(yintercept = -log10(0.05), col = \"gray\", linetype = 'dashed') +\n",
        "  geom_point(size = 2) +\n",
        "  scale_color_manual(values = c(\"#00AFBB\", \"grey\", \"#bb0c00\"),\n",
        "                     labels = c(\"Downregulated\", \"Not significant\", \"Upregulated\")) +\n",
        "  coord_cartesian(ylim = c(0, 250), xlim = c(-10, 10)) +\n",
        "  labs(color = 'Severe', x = expression(\"log\"[2]*\"FC\"), y = expression(\"-log\"[10]*\"p-value\")) +\n",
        "  scale_x_continuous(breaks = seq(-10, 10, 2)) +\n",
        "  ggtitle('Thf-like cells in severe COVID vs healthy patients') +\n",
        "  geom_text_repel(max.overlaps = Inf)\n",
        "\n",
        "# Open the file that will contain your plot (the name is up to you)\n",
        "#pdf(file = \"myvolcanoplot.pdf\", width = 8, height = 12)  # You can change the size of the output file\n",
        "\n",
        "# Execute the plot\n",
        "#myvolcanoplot\n",
        "\n",
        "# Close the file that contains the plot\n",
        "#dev.off()"
      ],
      "metadata": {
        "id": "u8fLaPUr92aF"
      },
      "execution_count": null,
      "outputs": []
    },
    {
      "cell_type": "code",
      "source": [
        "%%R\n",
        "myvolcanoplot"
      ],
      "metadata": {
        "id": "GHYqy3hp-i_u"
      },
      "execution_count": null,
      "outputs": []
    }
  ]
}